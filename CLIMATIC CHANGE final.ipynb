{
 "cells": [
  {
   "cell_type": "code",
   "execution_count": 2,
   "id": "c452309c",
   "metadata": {},
   "outputs": [],
   "source": [
    "import seaborn as sns\n",
    "import matplotlib.pyplot as plt\n",
    "import pandas as pd\n",
    "import numpy as np"
   ]
  },
  {
   "cell_type": "code",
   "execution_count": 3,
   "id": "bf46ce30",
   "metadata": {},
   "outputs": [],
   "source": [
    "df= pd.read_csv(\"C:/Users/Srimathi/Desktop/climate change/Modified/DailyNDClimateTrain.csv\")  "
   ]
  },
  {
   "cell_type": "code",
   "execution_count": 4,
   "id": "debc48b7",
   "metadata": {},
   "outputs": [
    {
     "data": {
      "text/html": [
       "<div>\n",
       "<style scoped>\n",
       "    .dataframe tbody tr th:only-of-type {\n",
       "        vertical-align: middle;\n",
       "    }\n",
       "\n",
       "    .dataframe tbody tr th {\n",
       "        vertical-align: top;\n",
       "    }\n",
       "\n",
       "    .dataframe thead th {\n",
       "        text-align: right;\n",
       "    }\n",
       "</style>\n",
       "<table border=\"1\" class=\"dataframe\">\n",
       "  <thead>\n",
       "    <tr style=\"text-align: right;\">\n",
       "      <th></th>\n",
       "      <th>date</th>\n",
       "      <th>meantemp</th>\n",
       "      <th>humidity</th>\n",
       "      <th>wind_speed</th>\n",
       "      <th>Climate</th>\n",
       "    </tr>\n",
       "  </thead>\n",
       "  <tbody>\n",
       "    <tr>\n",
       "      <th>0</th>\n",
       "      <td>2013-01-01</td>\n",
       "      <td>10.000000</td>\n",
       "      <td>84.500000</td>\n",
       "      <td>0.000000</td>\n",
       "      <td>Moderate</td>\n",
       "    </tr>\n",
       "    <tr>\n",
       "      <th>1</th>\n",
       "      <td>2013-01-02</td>\n",
       "      <td>7.400000</td>\n",
       "      <td>92.000000</td>\n",
       "      <td>2.980000</td>\n",
       "      <td>Moderate</td>\n",
       "    </tr>\n",
       "    <tr>\n",
       "      <th>2</th>\n",
       "      <td>2013-01-03</td>\n",
       "      <td>7.166667</td>\n",
       "      <td>87.000000</td>\n",
       "      <td>4.633333</td>\n",
       "      <td>Moderate</td>\n",
       "    </tr>\n",
       "    <tr>\n",
       "      <th>3</th>\n",
       "      <td>2013-01-04</td>\n",
       "      <td>8.666667</td>\n",
       "      <td>71.333333</td>\n",
       "      <td>1.233333</td>\n",
       "      <td>Moderate</td>\n",
       "    </tr>\n",
       "    <tr>\n",
       "      <th>4</th>\n",
       "      <td>2013-01-05</td>\n",
       "      <td>6.000000</td>\n",
       "      <td>86.833333</td>\n",
       "      <td>3.700000</td>\n",
       "      <td>Moderate</td>\n",
       "    </tr>\n",
       "    <tr>\n",
       "      <th>...</th>\n",
       "      <td>...</td>\n",
       "      <td>...</td>\n",
       "      <td>...</td>\n",
       "      <td>...</td>\n",
       "      <td>...</td>\n",
       "    </tr>\n",
       "    <tr>\n",
       "      <th>1457</th>\n",
       "      <td>2016-12-28</td>\n",
       "      <td>17.217391</td>\n",
       "      <td>68.043478</td>\n",
       "      <td>3.547826</td>\n",
       "      <td>Good</td>\n",
       "    </tr>\n",
       "    <tr>\n",
       "      <th>1458</th>\n",
       "      <td>2016-12-29</td>\n",
       "      <td>15.238095</td>\n",
       "      <td>87.857143</td>\n",
       "      <td>6.000000</td>\n",
       "      <td>Moderate</td>\n",
       "    </tr>\n",
       "    <tr>\n",
       "      <th>1459</th>\n",
       "      <td>2016-12-30</td>\n",
       "      <td>14.095238</td>\n",
       "      <td>89.666667</td>\n",
       "      <td>6.266667</td>\n",
       "      <td>Moderate</td>\n",
       "    </tr>\n",
       "    <tr>\n",
       "      <th>1460</th>\n",
       "      <td>2016-12-31</td>\n",
       "      <td>15.052632</td>\n",
       "      <td>87.000000</td>\n",
       "      <td>7.325000</td>\n",
       "      <td>Moderate</td>\n",
       "    </tr>\n",
       "    <tr>\n",
       "      <th>1461</th>\n",
       "      <td>2017-01-01</td>\n",
       "      <td>10.000000</td>\n",
       "      <td>100.000000</td>\n",
       "      <td>0.000000</td>\n",
       "      <td>Moderate</td>\n",
       "    </tr>\n",
       "  </tbody>\n",
       "</table>\n",
       "<p>1462 rows × 5 columns</p>\n",
       "</div>"
      ],
      "text/plain": [
       "            date   meantemp    humidity  wind_speed   Climate\n",
       "0     2013-01-01  10.000000   84.500000    0.000000  Moderate\n",
       "1     2013-01-02   7.400000   92.000000    2.980000  Moderate\n",
       "2     2013-01-03   7.166667   87.000000    4.633333  Moderate\n",
       "3     2013-01-04   8.666667   71.333333    1.233333  Moderate\n",
       "4     2013-01-05   6.000000   86.833333    3.700000  Moderate\n",
       "...          ...        ...         ...         ...       ...\n",
       "1457  2016-12-28  17.217391   68.043478    3.547826      Good\n",
       "1458  2016-12-29  15.238095   87.857143    6.000000  Moderate\n",
       "1459  2016-12-30  14.095238   89.666667    6.266667  Moderate\n",
       "1460  2016-12-31  15.052632   87.000000    7.325000  Moderate\n",
       "1461  2017-01-01  10.000000  100.000000    0.000000  Moderate\n",
       "\n",
       "[1462 rows x 5 columns]"
      ]
     },
     "execution_count": 4,
     "metadata": {},
     "output_type": "execute_result"
    }
   ],
   "source": [
    "df"
   ]
  },
  {
   "cell_type": "code",
   "execution_count": 5,
   "id": "3cb44d27",
   "metadata": {},
   "outputs": [
    {
     "data": {
      "text/html": [
       "<div>\n",
       "<style scoped>\n",
       "    .dataframe tbody tr th:only-of-type {\n",
       "        vertical-align: middle;\n",
       "    }\n",
       "\n",
       "    .dataframe tbody tr th {\n",
       "        vertical-align: top;\n",
       "    }\n",
       "\n",
       "    .dataframe thead th {\n",
       "        text-align: right;\n",
       "    }\n",
       "</style>\n",
       "<table border=\"1\" class=\"dataframe\">\n",
       "  <thead>\n",
       "    <tr style=\"text-align: right;\">\n",
       "      <th></th>\n",
       "      <th>meantemp</th>\n",
       "      <th>humidity</th>\n",
       "      <th>wind_speed</th>\n",
       "      <th>Climate</th>\n",
       "    </tr>\n",
       "  </thead>\n",
       "  <tbody>\n",
       "    <tr>\n",
       "      <th>0</th>\n",
       "      <td>10.000000</td>\n",
       "      <td>84.500000</td>\n",
       "      <td>0.000000</td>\n",
       "      <td>Moderate</td>\n",
       "    </tr>\n",
       "    <tr>\n",
       "      <th>1</th>\n",
       "      <td>7.400000</td>\n",
       "      <td>92.000000</td>\n",
       "      <td>2.980000</td>\n",
       "      <td>Moderate</td>\n",
       "    </tr>\n",
       "    <tr>\n",
       "      <th>2</th>\n",
       "      <td>7.166667</td>\n",
       "      <td>87.000000</td>\n",
       "      <td>4.633333</td>\n",
       "      <td>Moderate</td>\n",
       "    </tr>\n",
       "    <tr>\n",
       "      <th>3</th>\n",
       "      <td>8.666667</td>\n",
       "      <td>71.333333</td>\n",
       "      <td>1.233333</td>\n",
       "      <td>Moderate</td>\n",
       "    </tr>\n",
       "    <tr>\n",
       "      <th>4</th>\n",
       "      <td>6.000000</td>\n",
       "      <td>86.833333</td>\n",
       "      <td>3.700000</td>\n",
       "      <td>Moderate</td>\n",
       "    </tr>\n",
       "    <tr>\n",
       "      <th>...</th>\n",
       "      <td>...</td>\n",
       "      <td>...</td>\n",
       "      <td>...</td>\n",
       "      <td>...</td>\n",
       "    </tr>\n",
       "    <tr>\n",
       "      <th>1457</th>\n",
       "      <td>17.217391</td>\n",
       "      <td>68.043478</td>\n",
       "      <td>3.547826</td>\n",
       "      <td>Good</td>\n",
       "    </tr>\n",
       "    <tr>\n",
       "      <th>1458</th>\n",
       "      <td>15.238095</td>\n",
       "      <td>87.857143</td>\n",
       "      <td>6.000000</td>\n",
       "      <td>Moderate</td>\n",
       "    </tr>\n",
       "    <tr>\n",
       "      <th>1459</th>\n",
       "      <td>14.095238</td>\n",
       "      <td>89.666667</td>\n",
       "      <td>6.266667</td>\n",
       "      <td>Moderate</td>\n",
       "    </tr>\n",
       "    <tr>\n",
       "      <th>1460</th>\n",
       "      <td>15.052632</td>\n",
       "      <td>87.000000</td>\n",
       "      <td>7.325000</td>\n",
       "      <td>Moderate</td>\n",
       "    </tr>\n",
       "    <tr>\n",
       "      <th>1461</th>\n",
       "      <td>10.000000</td>\n",
       "      <td>100.000000</td>\n",
       "      <td>0.000000</td>\n",
       "      <td>Moderate</td>\n",
       "    </tr>\n",
       "  </tbody>\n",
       "</table>\n",
       "<p>1462 rows × 4 columns</p>\n",
       "</div>"
      ],
      "text/plain": [
       "       meantemp    humidity  wind_speed   Climate\n",
       "0     10.000000   84.500000    0.000000  Moderate\n",
       "1      7.400000   92.000000    2.980000  Moderate\n",
       "2      7.166667   87.000000    4.633333  Moderate\n",
       "3      8.666667   71.333333    1.233333  Moderate\n",
       "4      6.000000   86.833333    3.700000  Moderate\n",
       "...         ...         ...         ...       ...\n",
       "1457  17.217391   68.043478    3.547826      Good\n",
       "1458  15.238095   87.857143    6.000000  Moderate\n",
       "1459  14.095238   89.666667    6.266667  Moderate\n",
       "1460  15.052632   87.000000    7.325000  Moderate\n",
       "1461  10.000000  100.000000    0.000000  Moderate\n",
       "\n",
       "[1462 rows x 4 columns]"
      ]
     },
     "execution_count": 5,
     "metadata": {},
     "output_type": "execute_result"
    }
   ],
   "source": [
    "data=df.drop(columns=['date'])\n",
    "data"
   ]
  },
  {
   "cell_type": "code",
   "execution_count": 6,
   "id": "c72cee64",
   "metadata": {},
   "outputs": [],
   "source": [
    "x = data.iloc[:,:-1].values\n",
    "y = data.iloc[:,-1].values"
   ]
  },
  {
   "cell_type": "code",
   "execution_count": 7,
   "id": "7087a8fe",
   "metadata": {},
   "outputs": [
    {
     "data": {
      "text/html": [
       "<div>\n",
       "<style scoped>\n",
       "    .dataframe tbody tr th:only-of-type {\n",
       "        vertical-align: middle;\n",
       "    }\n",
       "\n",
       "    .dataframe tbody tr th {\n",
       "        vertical-align: top;\n",
       "    }\n",
       "\n",
       "    .dataframe thead th {\n",
       "        text-align: right;\n",
       "    }\n",
       "</style>\n",
       "<table border=\"1\" class=\"dataframe\">\n",
       "  <thead>\n",
       "    <tr style=\"text-align: right;\">\n",
       "      <th></th>\n",
       "      <th>0</th>\n",
       "      <th>1</th>\n",
       "      <th>2</th>\n",
       "    </tr>\n",
       "  </thead>\n",
       "  <tbody>\n",
       "    <tr>\n",
       "      <th>0</th>\n",
       "      <td>10.000000</td>\n",
       "      <td>84.500000</td>\n",
       "      <td>0.000000</td>\n",
       "    </tr>\n",
       "    <tr>\n",
       "      <th>1</th>\n",
       "      <td>7.400000</td>\n",
       "      <td>92.000000</td>\n",
       "      <td>2.980000</td>\n",
       "    </tr>\n",
       "    <tr>\n",
       "      <th>2</th>\n",
       "      <td>7.166667</td>\n",
       "      <td>87.000000</td>\n",
       "      <td>4.633333</td>\n",
       "    </tr>\n",
       "    <tr>\n",
       "      <th>3</th>\n",
       "      <td>8.666667</td>\n",
       "      <td>71.333333</td>\n",
       "      <td>1.233333</td>\n",
       "    </tr>\n",
       "    <tr>\n",
       "      <th>4</th>\n",
       "      <td>6.000000</td>\n",
       "      <td>86.833333</td>\n",
       "      <td>3.700000</td>\n",
       "    </tr>\n",
       "    <tr>\n",
       "      <th>...</th>\n",
       "      <td>...</td>\n",
       "      <td>...</td>\n",
       "      <td>...</td>\n",
       "    </tr>\n",
       "    <tr>\n",
       "      <th>1457</th>\n",
       "      <td>17.217391</td>\n",
       "      <td>68.043478</td>\n",
       "      <td>3.547826</td>\n",
       "    </tr>\n",
       "    <tr>\n",
       "      <th>1458</th>\n",
       "      <td>15.238095</td>\n",
       "      <td>87.857143</td>\n",
       "      <td>6.000000</td>\n",
       "    </tr>\n",
       "    <tr>\n",
       "      <th>1459</th>\n",
       "      <td>14.095238</td>\n",
       "      <td>89.666667</td>\n",
       "      <td>6.266667</td>\n",
       "    </tr>\n",
       "    <tr>\n",
       "      <th>1460</th>\n",
       "      <td>15.052632</td>\n",
       "      <td>87.000000</td>\n",
       "      <td>7.325000</td>\n",
       "    </tr>\n",
       "    <tr>\n",
       "      <th>1461</th>\n",
       "      <td>10.000000</td>\n",
       "      <td>100.000000</td>\n",
       "      <td>0.000000</td>\n",
       "    </tr>\n",
       "  </tbody>\n",
       "</table>\n",
       "<p>1462 rows × 3 columns</p>\n",
       "</div>"
      ],
      "text/plain": [
       "              0           1         2\n",
       "0     10.000000   84.500000  0.000000\n",
       "1      7.400000   92.000000  2.980000\n",
       "2      7.166667   87.000000  4.633333\n",
       "3      8.666667   71.333333  1.233333\n",
       "4      6.000000   86.833333  3.700000\n",
       "...         ...         ...       ...\n",
       "1457  17.217391   68.043478  3.547826\n",
       "1458  15.238095   87.857143  6.000000\n",
       "1459  14.095238   89.666667  6.266667\n",
       "1460  15.052632   87.000000  7.325000\n",
       "1461  10.000000  100.000000  0.000000\n",
       "\n",
       "[1462 rows x 3 columns]"
      ]
     },
     "execution_count": 7,
     "metadata": {},
     "output_type": "execute_result"
    }
   ],
   "source": [
    "x1=pd.DataFrame(x)\n",
    "x1"
   ]
  },
  {
   "cell_type": "code",
   "execution_count": 8,
   "id": "4a62d52a",
   "metadata": {},
   "outputs": [],
   "source": [
    "from sklearn.model_selection import train_test_split  \n",
    "x_train, x_test, y_train, y_test = train_test_split(x, y, test_size = 0.3, random_state = 0)  "
   ]
  },
  {
   "cell_type": "code",
   "execution_count": 9,
   "id": "6208d78f",
   "metadata": {},
   "outputs": [
    {
     "data": {
      "text/plain": [
       "RandomForestClassifier(n_estimators=10)"
      ]
     },
     "execution_count": 9,
     "metadata": {},
     "output_type": "execute_result"
    }
   ],
   "source": [
    "from sklearn.ensemble import RandomForestClassifier  \n",
    "classifier= RandomForestClassifier(n_estimators= 10, criterion=\"gini\")  \n",
    "classifier.fit(x_train, y_train)  "
   ]
  },
  {
   "cell_type": "code",
   "execution_count": 10,
   "id": "a7160d85",
   "metadata": {},
   "outputs": [
    {
     "data": {
      "text/plain": [
       "array(['Moderate', 'Moderate', 'Moderate', 'Moderate', 'Moderate',\n",
       "       'Moderate', 'Moderate', 'Good', 'Moderate', 'Good', 'Moderate',\n",
       "       'Moderate', 'Moderate', 'Moderate', 'Moderate', 'Moderate',\n",
       "       'Moderate', 'Moderate', 'Good', 'Moderate', 'Moderate', 'Moderate',\n",
       "       'Moderate', 'Moderate', 'Moderate', 'Moderate', 'Moderate',\n",
       "       'Moderate', 'Moderate', 'Moderate', 'Moderate', 'Moderate',\n",
       "       'Moderate', 'Moderate', 'Moderate', 'Moderate', 'Moderate',\n",
       "       'Moderate', 'Moderate', 'Moderate', 'Moderate', 'Good', 'Good',\n",
       "       'Moderate', 'Moderate', 'Good', 'Good', 'Moderate', 'Moderate',\n",
       "       'Good', 'Moderate', 'Moderate', 'Good', 'Moderate', 'Good',\n",
       "       'Moderate', 'Moderate', 'Good', 'Moderate', 'Moderate', 'Moderate',\n",
       "       'Good', 'Moderate', 'Moderate', 'Moderate', 'Moderate', 'Moderate',\n",
       "       'Moderate', 'Moderate', 'Moderate', 'Good', 'Moderate', 'Moderate',\n",
       "       'Moderate', 'Moderate', 'Moderate', 'Moderate', 'Moderate',\n",
       "       'Moderate', 'Moderate', 'Moderate', 'Moderate', 'Moderate',\n",
       "       'Moderate', 'Moderate', 'Moderate', 'Moderate', 'Moderate',\n",
       "       'Moderate', 'Moderate', 'Moderate', 'Moderate', 'Moderate',\n",
       "       'Moderate', 'Moderate', 'Moderate', 'Moderate', 'Moderate',\n",
       "       'Moderate', 'Moderate', 'Moderate', 'Moderate', 'Moderate',\n",
       "       'Moderate', 'Moderate', 'Moderate', 'Moderate', 'Moderate',\n",
       "       'Moderate', 'Moderate', 'Moderate', 'Moderate', 'Moderate', 'Good',\n",
       "       'Moderate', 'Moderate', 'Moderate', 'Moderate', 'Moderate', 'Good',\n",
       "       'Moderate', 'Moderate', 'Moderate', 'Moderate', 'Moderate',\n",
       "       'Moderate', 'Moderate', 'Moderate', 'Moderate', 'Good', 'Good',\n",
       "       'Moderate', 'Moderate', 'Moderate', 'Moderate', 'Moderate',\n",
       "       'Moderate', 'Moderate', 'Moderate', 'Moderate', 'Moderate',\n",
       "       'Moderate', 'Moderate', 'Moderate', 'Moderate', 'Moderate',\n",
       "       'Moderate', 'Good', 'Moderate', 'Moderate', 'Good', 'Moderate',\n",
       "       'Moderate', 'Moderate', 'Moderate', 'Moderate', 'Moderate',\n",
       "       'Moderate', 'Moderate', 'Good', 'Moderate', 'Moderate', 'Moderate',\n",
       "       'Moderate', 'Moderate', 'Moderate', 'Moderate', 'Moderate',\n",
       "       'Moderate', 'Moderate', 'Moderate', 'Good', 'Moderate', 'Moderate',\n",
       "       'Good', 'Moderate', 'Moderate', 'Moderate', 'Moderate', 'Moderate',\n",
       "       'Moderate', 'Moderate', 'Good', 'Moderate', 'Good', 'Moderate',\n",
       "       'Moderate', 'Moderate', 'Moderate', 'Moderate', 'Moderate',\n",
       "       'Moderate', 'Moderate', 'Moderate', 'Moderate', 'Moderate',\n",
       "       'Moderate', 'Moderate', 'Moderate', 'Moderate', 'Moderate',\n",
       "       'Moderate', 'Moderate', 'Moderate', 'Moderate', 'Moderate',\n",
       "       'Moderate', 'Moderate', 'Moderate', 'Moderate', 'Moderate',\n",
       "       'Moderate', 'Good', 'Moderate', 'Good', 'Moderate', 'Moderate',\n",
       "       'Good', 'Moderate', 'Moderate', 'Good', 'Moderate', 'Moderate',\n",
       "       'Moderate', 'Moderate', 'Moderate', 'Moderate', 'Moderate',\n",
       "       'Moderate', 'Moderate', 'Good', 'Moderate', 'Moderate', 'Moderate',\n",
       "       'Moderate', 'Moderate', 'Moderate', 'Moderate', 'Good', 'Good',\n",
       "       'Moderate', 'Moderate', 'Good', 'Moderate', 'Moderate', 'Moderate',\n",
       "       'Moderate', 'Moderate', 'Moderate', 'Moderate', 'Moderate',\n",
       "       'Moderate', 'Moderate', 'Moderate', 'Moderate', 'Moderate',\n",
       "       'Moderate', 'Moderate', 'Good', 'Good', 'Moderate', 'Moderate',\n",
       "       'Moderate', 'Moderate', 'Moderate', 'Moderate', 'Good', 'Moderate',\n",
       "       'Moderate', 'Moderate', 'Moderate', 'Moderate', 'Moderate',\n",
       "       'Moderate', 'Moderate', 'Moderate', 'Moderate', 'Moderate',\n",
       "       'Moderate', 'Moderate', 'Moderate', 'Good', 'Moderate', 'Moderate',\n",
       "       'Moderate', 'Moderate', 'Moderate', 'Good', 'Moderate', 'Moderate',\n",
       "       'Moderate', 'Good', 'Moderate', 'Moderate', 'Moderate', 'Moderate',\n",
       "       'Moderate', 'Moderate', 'Good', 'Moderate', 'Moderate', 'Moderate',\n",
       "       'Moderate', 'Moderate', 'Moderate', 'Moderate', 'Moderate',\n",
       "       'Moderate', 'Moderate', 'Moderate', 'Moderate', 'Moderate',\n",
       "       'Moderate', 'Moderate', 'Moderate', 'Moderate', 'Moderate', 'Good',\n",
       "       'Moderate', 'Moderate', 'Good', 'Moderate', 'Moderate', 'Good',\n",
       "       'Moderate', 'Moderate', 'Moderate', 'Moderate', 'Moderate',\n",
       "       'Moderate', 'Moderate', 'Moderate', 'Moderate', 'Moderate',\n",
       "       'Moderate', 'Moderate', 'Moderate', 'Moderate', 'Good', 'Good',\n",
       "       'Moderate', 'Moderate', 'Moderate', 'Moderate', 'Moderate',\n",
       "       'Moderate', 'Moderate', 'Moderate', 'Moderate', 'Moderate',\n",
       "       'Moderate', 'Moderate', 'Moderate', 'Moderate', 'Moderate',\n",
       "       'Moderate', 'Good', 'Moderate', 'Moderate', 'Moderate', 'Moderate',\n",
       "       'Moderate', 'Moderate', 'Moderate', 'Moderate', 'Moderate',\n",
       "       'Moderate', 'Moderate', 'Moderate', 'Moderate', 'Moderate',\n",
       "       'Moderate', 'Moderate', 'Moderate', 'Moderate', 'Moderate',\n",
       "       'Moderate', 'Moderate', 'Moderate', 'Moderate', 'Moderate', 'Good',\n",
       "       'Moderate', 'Good', 'Moderate', 'Moderate', 'Moderate', 'Moderate',\n",
       "       'Moderate', 'Moderate', 'Good', 'Moderate', 'Moderate', 'Moderate',\n",
       "       'Good', 'Moderate', 'Moderate', 'Moderate', 'Moderate', 'Moderate',\n",
       "       'Moderate', 'Moderate', 'Moderate', 'Moderate', 'Moderate', 'Good',\n",
       "       'Moderate', 'Moderate', 'Moderate', 'Moderate', 'Moderate',\n",
       "       'Moderate', 'Moderate', 'Moderate', 'Moderate', 'Moderate', 'Good',\n",
       "       'Moderate', 'Moderate', 'Moderate', 'Moderate', 'Good', 'Good',\n",
       "       'Moderate', 'Good', 'Moderate', 'Moderate', 'Good', 'Moderate',\n",
       "       'Moderate', 'Challenging', 'Moderate', 'Moderate', 'Moderate',\n",
       "       'Moderate', 'Moderate', 'Moderate', 'Moderate', 'Moderate'],\n",
       "      dtype=object)"
      ]
     },
     "execution_count": 10,
     "metadata": {},
     "output_type": "execute_result"
    }
   ],
   "source": [
    "y_test\n"
   ]
  },
  {
   "cell_type": "code",
   "execution_count": 11,
   "id": "e384e226",
   "metadata": {},
   "outputs": [],
   "source": [
    "y_pred = classifier.predict(x_test) "
   ]
  },
  {
   "cell_type": "code",
   "execution_count": 12,
   "id": "516cc492",
   "metadata": {},
   "outputs": [
    {
     "data": {
      "text/plain": [
       "array(['Moderate', 'Moderate', 'Moderate', 'Moderate', 'Moderate',\n",
       "       'Moderate', 'Moderate', 'Good', 'Moderate', 'Good', 'Moderate',\n",
       "       'Moderate', 'Moderate', 'Moderate', 'Moderate', 'Moderate',\n",
       "       'Moderate', 'Moderate', 'Good', 'Moderate', 'Moderate', 'Moderate',\n",
       "       'Moderate', 'Moderate', 'Moderate', 'Moderate', 'Moderate',\n",
       "       'Moderate', 'Moderate', 'Moderate', 'Moderate', 'Moderate',\n",
       "       'Moderate', 'Moderate', 'Moderate', 'Moderate', 'Moderate',\n",
       "       'Moderate', 'Moderate', 'Moderate', 'Moderate', 'Good', 'Good',\n",
       "       'Moderate', 'Moderate', 'Good', 'Good', 'Moderate', 'Moderate',\n",
       "       'Good', 'Moderate', 'Moderate', 'Good', 'Moderate', 'Good',\n",
       "       'Moderate', 'Moderate', 'Good', 'Moderate', 'Moderate', 'Moderate',\n",
       "       'Good', 'Moderate', 'Moderate', 'Moderate', 'Moderate', 'Moderate',\n",
       "       'Moderate', 'Moderate', 'Moderate', 'Good', 'Moderate', 'Moderate',\n",
       "       'Moderate', 'Moderate', 'Moderate', 'Moderate', 'Moderate',\n",
       "       'Moderate', 'Moderate', 'Moderate', 'Moderate', 'Moderate',\n",
       "       'Moderate', 'Moderate', 'Moderate', 'Moderate', 'Moderate',\n",
       "       'Moderate', 'Moderate', 'Moderate', 'Moderate', 'Moderate',\n",
       "       'Moderate', 'Moderate', 'Moderate', 'Moderate', 'Moderate',\n",
       "       'Moderate', 'Moderate', 'Moderate', 'Moderate', 'Moderate',\n",
       "       'Moderate', 'Moderate', 'Moderate', 'Moderate', 'Moderate',\n",
       "       'Moderate', 'Moderate', 'Moderate', 'Moderate', 'Moderate', 'Good',\n",
       "       'Moderate', 'Moderate', 'Moderate', 'Moderate', 'Moderate', 'Good',\n",
       "       'Moderate', 'Moderate', 'Moderate', 'Moderate', 'Moderate',\n",
       "       'Moderate', 'Moderate', 'Moderate', 'Moderate', 'Good', 'Good',\n",
       "       'Moderate', 'Moderate', 'Moderate', 'Moderate', 'Moderate',\n",
       "       'Moderate', 'Moderate', 'Moderate', 'Moderate', 'Moderate',\n",
       "       'Moderate', 'Moderate', 'Moderate', 'Moderate', 'Moderate',\n",
       "       'Moderate', 'Good', 'Moderate', 'Moderate', 'Good', 'Moderate',\n",
       "       'Moderate', 'Moderate', 'Moderate', 'Moderate', 'Moderate',\n",
       "       'Moderate', 'Moderate', 'Good', 'Moderate', 'Moderate', 'Moderate',\n",
       "       'Moderate', 'Moderate', 'Moderate', 'Moderate', 'Moderate',\n",
       "       'Moderate', 'Moderate', 'Moderate', 'Good', 'Moderate', 'Moderate',\n",
       "       'Good', 'Moderate', 'Moderate', 'Moderate', 'Moderate', 'Moderate',\n",
       "       'Moderate', 'Moderate', 'Good', 'Good', 'Good', 'Moderate',\n",
       "       'Moderate', 'Moderate', 'Moderate', 'Moderate', 'Moderate',\n",
       "       'Moderate', 'Moderate', 'Moderate', 'Moderate', 'Moderate',\n",
       "       'Moderate', 'Moderate', 'Moderate', 'Moderate', 'Moderate',\n",
       "       'Moderate', 'Moderate', 'Moderate', 'Moderate', 'Moderate',\n",
       "       'Moderate', 'Moderate', 'Moderate', 'Moderate', 'Moderate',\n",
       "       'Moderate', 'Good', 'Moderate', 'Good', 'Moderate', 'Moderate',\n",
       "       'Good', 'Moderate', 'Moderate', 'Good', 'Moderate', 'Moderate',\n",
       "       'Moderate', 'Moderate', 'Moderate', 'Moderate', 'Moderate',\n",
       "       'Moderate', 'Moderate', 'Moderate', 'Moderate', 'Moderate',\n",
       "       'Moderate', 'Moderate', 'Moderate', 'Moderate', 'Moderate',\n",
       "       'Moderate', 'Moderate', 'Moderate', 'Moderate', 'Good', 'Moderate',\n",
       "       'Moderate', 'Moderate', 'Moderate', 'Moderate', 'Moderate',\n",
       "       'Moderate', 'Moderate', 'Moderate', 'Moderate', 'Moderate',\n",
       "       'Moderate', 'Moderate', 'Moderate', 'Moderate', 'Good', 'Good',\n",
       "       'Moderate', 'Moderate', 'Moderate', 'Moderate', 'Moderate',\n",
       "       'Moderate', 'Good', 'Moderate', 'Moderate', 'Moderate', 'Moderate',\n",
       "       'Moderate', 'Moderate', 'Moderate', 'Moderate', 'Moderate',\n",
       "       'Moderate', 'Moderate', 'Moderate', 'Moderate', 'Moderate', 'Good',\n",
       "       'Moderate', 'Moderate', 'Moderate', 'Moderate', 'Moderate', 'Good',\n",
       "       'Moderate', 'Moderate', 'Moderate', 'Good', 'Moderate', 'Moderate',\n",
       "       'Moderate', 'Moderate', 'Moderate', 'Moderate', 'Good', 'Moderate',\n",
       "       'Moderate', 'Moderate', 'Moderate', 'Moderate', 'Moderate',\n",
       "       'Moderate', 'Moderate', 'Moderate', 'Moderate', 'Moderate',\n",
       "       'Moderate', 'Moderate', 'Moderate', 'Moderate', 'Moderate',\n",
       "       'Moderate', 'Moderate', 'Good', 'Moderate', 'Moderate', 'Moderate',\n",
       "       'Moderate', 'Moderate', 'Good', 'Moderate', 'Moderate', 'Moderate',\n",
       "       'Moderate', 'Moderate', 'Moderate', 'Moderate', 'Moderate',\n",
       "       'Moderate', 'Moderate', 'Moderate', 'Moderate', 'Moderate',\n",
       "       'Moderate', 'Moderate', 'Good', 'Moderate', 'Moderate', 'Moderate',\n",
       "       'Moderate', 'Moderate', 'Moderate', 'Moderate', 'Moderate',\n",
       "       'Moderate', 'Moderate', 'Good', 'Moderate', 'Moderate', 'Moderate',\n",
       "       'Moderate', 'Moderate', 'Good', 'Moderate', 'Moderate', 'Moderate',\n",
       "       'Moderate', 'Moderate', 'Moderate', 'Moderate', 'Moderate',\n",
       "       'Moderate', 'Moderate', 'Moderate', 'Moderate', 'Moderate',\n",
       "       'Moderate', 'Moderate', 'Moderate', 'Moderate', 'Moderate',\n",
       "       'Moderate', 'Moderate', 'Moderate', 'Moderate', 'Moderate',\n",
       "       'Moderate', 'Good', 'Moderate', 'Good', 'Moderate', 'Moderate',\n",
       "       'Moderate', 'Moderate', 'Moderate', 'Moderate', 'Good', 'Moderate',\n",
       "       'Moderate', 'Moderate', 'Good', 'Moderate', 'Moderate', 'Moderate',\n",
       "       'Moderate', 'Moderate', 'Moderate', 'Moderate', 'Moderate',\n",
       "       'Moderate', 'Moderate', 'Good', 'Moderate', 'Moderate', 'Moderate',\n",
       "       'Moderate', 'Moderate', 'Moderate', 'Moderate', 'Moderate',\n",
       "       'Moderate', 'Moderate', 'Good', 'Moderate', 'Moderate', 'Moderate',\n",
       "       'Moderate', 'Good', 'Good', 'Moderate', 'Good', 'Moderate',\n",
       "       'Moderate', 'Moderate', 'Moderate', 'Moderate', 'Moderate',\n",
       "       'Moderate', 'Moderate', 'Moderate', 'Moderate', 'Moderate',\n",
       "       'Moderate', 'Moderate', 'Moderate'], dtype=object)"
      ]
     },
     "execution_count": 12,
     "metadata": {},
     "output_type": "execute_result"
    }
   ],
   "source": [
    "y_pred"
   ]
  },
  {
   "cell_type": "code",
   "execution_count": 13,
   "id": "ec35f2cc",
   "metadata": {},
   "outputs": [
    {
     "data": {
      "text/plain": [
       "array(['Moderate', 'Moderate', 'Moderate', 'Moderate', 'Moderate',\n",
       "       'Moderate', 'Moderate', 'Good', 'Moderate', 'Good', 'Moderate',\n",
       "       'Moderate', 'Moderate', 'Moderate', 'Moderate', 'Moderate',\n",
       "       'Moderate', 'Moderate', 'Good', 'Moderate', 'Moderate', 'Moderate',\n",
       "       'Moderate', 'Moderate', 'Moderate', 'Moderate', 'Moderate',\n",
       "       'Moderate', 'Moderate', 'Moderate', 'Moderate', 'Moderate',\n",
       "       'Moderate', 'Moderate', 'Moderate', 'Moderate', 'Moderate',\n",
       "       'Moderate', 'Moderate', 'Moderate', 'Moderate', 'Good', 'Good',\n",
       "       'Moderate', 'Moderate', 'Good', 'Good', 'Moderate', 'Moderate',\n",
       "       'Good', 'Moderate', 'Moderate', 'Good', 'Moderate', 'Good',\n",
       "       'Moderate', 'Moderate', 'Good', 'Moderate', 'Moderate', 'Moderate',\n",
       "       'Good', 'Moderate', 'Moderate', 'Moderate', 'Moderate', 'Moderate',\n",
       "       'Moderate', 'Moderate', 'Moderate', 'Good', 'Moderate', 'Moderate',\n",
       "       'Moderate', 'Moderate', 'Moderate', 'Moderate', 'Moderate',\n",
       "       'Moderate', 'Moderate', 'Moderate', 'Moderate', 'Moderate',\n",
       "       'Moderate', 'Moderate', 'Moderate', 'Moderate', 'Moderate',\n",
       "       'Moderate', 'Moderate', 'Moderate', 'Moderate', 'Moderate',\n",
       "       'Moderate', 'Moderate', 'Moderate', 'Moderate', 'Moderate',\n",
       "       'Moderate', 'Moderate', 'Moderate', 'Moderate', 'Moderate',\n",
       "       'Moderate', 'Moderate', 'Moderate', 'Moderate', 'Moderate',\n",
       "       'Moderate', 'Moderate', 'Moderate', 'Moderate', 'Moderate', 'Good',\n",
       "       'Moderate', 'Moderate', 'Moderate', 'Moderate', 'Moderate', 'Good',\n",
       "       'Moderate', 'Moderate', 'Moderate', 'Moderate', 'Moderate',\n",
       "       'Moderate', 'Moderate', 'Moderate', 'Moderate', 'Good', 'Good',\n",
       "       'Moderate', 'Moderate', 'Moderate', 'Moderate', 'Moderate',\n",
       "       'Moderate', 'Moderate', 'Moderate', 'Moderate', 'Moderate',\n",
       "       'Moderate', 'Moderate', 'Moderate', 'Moderate', 'Moderate',\n",
       "       'Moderate', 'Good', 'Moderate', 'Moderate', 'Good', 'Moderate',\n",
       "       'Moderate', 'Moderate', 'Moderate', 'Moderate', 'Moderate',\n",
       "       'Moderate', 'Moderate', 'Good', 'Moderate', 'Moderate', 'Moderate',\n",
       "       'Moderate', 'Moderate', 'Moderate', 'Moderate', 'Moderate',\n",
       "       'Moderate', 'Moderate', 'Moderate', 'Good', 'Moderate', 'Moderate',\n",
       "       'Good', 'Moderate', 'Moderate', 'Moderate', 'Moderate', 'Moderate',\n",
       "       'Moderate', 'Moderate', 'Good', 'Good', 'Good', 'Moderate',\n",
       "       'Moderate', 'Moderate', 'Moderate', 'Moderate', 'Moderate',\n",
       "       'Moderate', 'Moderate', 'Moderate', 'Moderate', 'Moderate',\n",
       "       'Moderate', 'Moderate', 'Moderate', 'Moderate', 'Moderate',\n",
       "       'Moderate', 'Moderate', 'Moderate', 'Moderate', 'Moderate',\n",
       "       'Moderate', 'Moderate', 'Moderate', 'Moderate', 'Moderate',\n",
       "       'Moderate', 'Good', 'Moderate', 'Good', 'Moderate', 'Moderate',\n",
       "       'Good', 'Moderate', 'Moderate', 'Good', 'Moderate', 'Moderate',\n",
       "       'Moderate', 'Moderate', 'Moderate', 'Moderate', 'Moderate',\n",
       "       'Moderate', 'Moderate', 'Moderate', 'Moderate', 'Moderate',\n",
       "       'Moderate', 'Moderate', 'Moderate', 'Moderate', 'Moderate',\n",
       "       'Moderate', 'Moderate', 'Moderate', 'Moderate', 'Good', 'Moderate',\n",
       "       'Moderate', 'Moderate', 'Moderate', 'Moderate', 'Moderate',\n",
       "       'Moderate', 'Moderate', 'Moderate', 'Moderate', 'Moderate',\n",
       "       'Moderate', 'Moderate', 'Moderate', 'Moderate', 'Good', 'Good',\n",
       "       'Moderate', 'Moderate', 'Moderate', 'Moderate', 'Moderate',\n",
       "       'Moderate', 'Good', 'Moderate', 'Moderate', 'Moderate', 'Moderate',\n",
       "       'Moderate', 'Moderate', 'Moderate', 'Moderate', 'Moderate',\n",
       "       'Moderate', 'Moderate', 'Moderate', 'Moderate', 'Moderate', 'Good',\n",
       "       'Moderate', 'Moderate', 'Moderate', 'Moderate', 'Moderate', 'Good',\n",
       "       'Moderate', 'Moderate', 'Moderate', 'Good', 'Moderate', 'Moderate',\n",
       "       'Moderate', 'Moderate', 'Moderate', 'Moderate', 'Good', 'Moderate',\n",
       "       'Moderate', 'Moderate', 'Moderate', 'Moderate', 'Moderate',\n",
       "       'Moderate', 'Moderate', 'Moderate', 'Moderate', 'Moderate',\n",
       "       'Moderate', 'Moderate', 'Moderate', 'Moderate', 'Moderate',\n",
       "       'Moderate', 'Moderate', 'Good', 'Moderate', 'Moderate', 'Moderate',\n",
       "       'Moderate', 'Moderate', 'Good', 'Moderate', 'Moderate', 'Moderate',\n",
       "       'Moderate', 'Moderate', 'Moderate', 'Moderate', 'Moderate',\n",
       "       'Moderate', 'Moderate', 'Moderate', 'Moderate', 'Moderate',\n",
       "       'Moderate', 'Moderate', 'Good', 'Moderate', 'Moderate', 'Moderate',\n",
       "       'Moderate', 'Moderate', 'Moderate', 'Moderate', 'Moderate',\n",
       "       'Moderate', 'Moderate', 'Good', 'Moderate', 'Moderate', 'Moderate',\n",
       "       'Moderate', 'Moderate', 'Good', 'Moderate', 'Moderate', 'Moderate',\n",
       "       'Moderate', 'Moderate', 'Moderate', 'Moderate', 'Moderate',\n",
       "       'Moderate', 'Moderate', 'Moderate', 'Moderate', 'Moderate',\n",
       "       'Moderate', 'Moderate', 'Moderate', 'Moderate', 'Moderate',\n",
       "       'Moderate', 'Moderate', 'Moderate', 'Moderate', 'Moderate',\n",
       "       'Moderate', 'Good', 'Moderate', 'Good', 'Moderate', 'Moderate',\n",
       "       'Moderate', 'Moderate', 'Moderate', 'Moderate', 'Good', 'Moderate',\n",
       "       'Moderate', 'Moderate', 'Good', 'Moderate', 'Moderate', 'Moderate',\n",
       "       'Moderate', 'Moderate', 'Moderate', 'Moderate', 'Moderate',\n",
       "       'Moderate', 'Moderate', 'Good', 'Moderate', 'Moderate', 'Moderate',\n",
       "       'Moderate', 'Moderate', 'Moderate', 'Moderate', 'Moderate',\n",
       "       'Moderate', 'Moderate', 'Good', 'Moderate', 'Moderate', 'Moderate',\n",
       "       'Moderate', 'Good', 'Good', 'Moderate', 'Good', 'Moderate',\n",
       "       'Moderate', 'Moderate', 'Moderate', 'Moderate', 'Moderate',\n",
       "       'Moderate', 'Moderate', 'Moderate', 'Moderate', 'Moderate',\n",
       "       'Moderate', 'Moderate', 'Moderate'], dtype=object)"
      ]
     },
     "execution_count": 13,
     "metadata": {},
     "output_type": "execute_result"
    }
   ],
   "source": [
    "predictions = classifier.predict(x_test)\n",
    "predictions"
   ]
  },
  {
   "cell_type": "code",
   "execution_count": 14,
   "id": "cba8b8ad",
   "metadata": {},
   "outputs": [
    {
     "name": "stdout",
     "output_type": "stream",
     "text": [
      "0.979498861047836\n"
     ]
    }
   ],
   "source": [
    "from sklearn.metrics import accuracy_score\n",
    "print(accuracy_score(y_pred,y_test))"
   ]
  },
  {
   "cell_type": "code",
   "execution_count": 15,
   "id": "266382a6",
   "metadata": {},
   "outputs": [],
   "source": [
    "a=classifier.predict([[17.21,68,3.5]])"
   ]
  },
  {
   "cell_type": "code",
   "execution_count": 16,
   "id": "cfb24496",
   "metadata": {},
   "outputs": [
    {
     "data": {
      "text/plain": [
       "array(['Good'], dtype=object)"
      ]
     },
     "execution_count": 16,
     "metadata": {},
     "output_type": "execute_result"
    }
   ],
   "source": [
    "a"
   ]
  },
  {
   "cell_type": "markdown",
   "id": "fd864d0c",
   "metadata": {},
   "source": [
    "# Multiple Time Series Regression"
   ]
  },
  {
   "cell_type": "code",
   "execution_count": 17,
   "id": "7ad01786",
   "metadata": {},
   "outputs": [
    {
     "data": {
      "text/html": [
       "<div>\n",
       "<style scoped>\n",
       "    .dataframe tbody tr th:only-of-type {\n",
       "        vertical-align: middle;\n",
       "    }\n",
       "\n",
       "    .dataframe tbody tr th {\n",
       "        vertical-align: top;\n",
       "    }\n",
       "\n",
       "    .dataframe thead th {\n",
       "        text-align: right;\n",
       "    }\n",
       "</style>\n",
       "<table border=\"1\" class=\"dataframe\">\n",
       "  <thead>\n",
       "    <tr style=\"text-align: right;\">\n",
       "      <th></th>\n",
       "      <th>date</th>\n",
       "      <th>meantemp</th>\n",
       "      <th>humidity</th>\n",
       "      <th>wind_speed</th>\n",
       "      <th>Climate</th>\n",
       "    </tr>\n",
       "  </thead>\n",
       "  <tbody>\n",
       "    <tr>\n",
       "      <th>0</th>\n",
       "      <td>2013-01-01</td>\n",
       "      <td>10.000000</td>\n",
       "      <td>84.500000</td>\n",
       "      <td>0.000000</td>\n",
       "      <td>Moderate</td>\n",
       "    </tr>\n",
       "    <tr>\n",
       "      <th>1</th>\n",
       "      <td>2013-01-02</td>\n",
       "      <td>7.400000</td>\n",
       "      <td>92.000000</td>\n",
       "      <td>2.980000</td>\n",
       "      <td>Moderate</td>\n",
       "    </tr>\n",
       "    <tr>\n",
       "      <th>2</th>\n",
       "      <td>2013-01-03</td>\n",
       "      <td>7.166667</td>\n",
       "      <td>87.000000</td>\n",
       "      <td>4.633333</td>\n",
       "      <td>Moderate</td>\n",
       "    </tr>\n",
       "    <tr>\n",
       "      <th>3</th>\n",
       "      <td>2013-01-04</td>\n",
       "      <td>8.666667</td>\n",
       "      <td>71.333333</td>\n",
       "      <td>1.233333</td>\n",
       "      <td>Moderate</td>\n",
       "    </tr>\n",
       "    <tr>\n",
       "      <th>4</th>\n",
       "      <td>2013-01-05</td>\n",
       "      <td>6.000000</td>\n",
       "      <td>86.833333</td>\n",
       "      <td>3.700000</td>\n",
       "      <td>Moderate</td>\n",
       "    </tr>\n",
       "    <tr>\n",
       "      <th>...</th>\n",
       "      <td>...</td>\n",
       "      <td>...</td>\n",
       "      <td>...</td>\n",
       "      <td>...</td>\n",
       "      <td>...</td>\n",
       "    </tr>\n",
       "    <tr>\n",
       "      <th>1457</th>\n",
       "      <td>2016-12-28</td>\n",
       "      <td>17.217391</td>\n",
       "      <td>68.043478</td>\n",
       "      <td>3.547826</td>\n",
       "      <td>Good</td>\n",
       "    </tr>\n",
       "    <tr>\n",
       "      <th>1458</th>\n",
       "      <td>2016-12-29</td>\n",
       "      <td>15.238095</td>\n",
       "      <td>87.857143</td>\n",
       "      <td>6.000000</td>\n",
       "      <td>Moderate</td>\n",
       "    </tr>\n",
       "    <tr>\n",
       "      <th>1459</th>\n",
       "      <td>2016-12-30</td>\n",
       "      <td>14.095238</td>\n",
       "      <td>89.666667</td>\n",
       "      <td>6.266667</td>\n",
       "      <td>Moderate</td>\n",
       "    </tr>\n",
       "    <tr>\n",
       "      <th>1460</th>\n",
       "      <td>2016-12-31</td>\n",
       "      <td>15.052632</td>\n",
       "      <td>87.000000</td>\n",
       "      <td>7.325000</td>\n",
       "      <td>Moderate</td>\n",
       "    </tr>\n",
       "    <tr>\n",
       "      <th>1461</th>\n",
       "      <td>2017-01-01</td>\n",
       "      <td>10.000000</td>\n",
       "      <td>100.000000</td>\n",
       "      <td>0.000000</td>\n",
       "      <td>Moderate</td>\n",
       "    </tr>\n",
       "  </tbody>\n",
       "</table>\n",
       "<p>1462 rows × 5 columns</p>\n",
       "</div>"
      ],
      "text/plain": [
       "            date   meantemp    humidity  wind_speed   Climate\n",
       "0     2013-01-01  10.000000   84.500000    0.000000  Moderate\n",
       "1     2013-01-02   7.400000   92.000000    2.980000  Moderate\n",
       "2     2013-01-03   7.166667   87.000000    4.633333  Moderate\n",
       "3     2013-01-04   8.666667   71.333333    1.233333  Moderate\n",
       "4     2013-01-05   6.000000   86.833333    3.700000  Moderate\n",
       "...          ...        ...         ...         ...       ...\n",
       "1457  2016-12-28  17.217391   68.043478    3.547826      Good\n",
       "1458  2016-12-29  15.238095   87.857143    6.000000  Moderate\n",
       "1459  2016-12-30  14.095238   89.666667    6.266667  Moderate\n",
       "1460  2016-12-31  15.052632   87.000000    7.325000  Moderate\n",
       "1461  2017-01-01  10.000000  100.000000    0.000000  Moderate\n",
       "\n",
       "[1462 rows x 5 columns]"
      ]
     },
     "execution_count": 17,
     "metadata": {},
     "output_type": "execute_result"
    }
   ],
   "source": [
    "df"
   ]
  },
  {
   "cell_type": "code",
   "execution_count": 18,
   "id": "a2fb2d72",
   "metadata": {},
   "outputs": [
    {
     "data": {
      "text/html": [
       "<div>\n",
       "<style scoped>\n",
       "    .dataframe tbody tr th:only-of-type {\n",
       "        vertical-align: middle;\n",
       "    }\n",
       "\n",
       "    .dataframe tbody tr th {\n",
       "        vertical-align: top;\n",
       "    }\n",
       "\n",
       "    .dataframe thead th {\n",
       "        text-align: right;\n",
       "    }\n",
       "</style>\n",
       "<table border=\"1\" class=\"dataframe\">\n",
       "  <thead>\n",
       "    <tr style=\"text-align: right;\">\n",
       "      <th></th>\n",
       "      <th>date</th>\n",
       "      <th>meantemp</th>\n",
       "      <th>humidity</th>\n",
       "      <th>wind_speed</th>\n",
       "      <th>Climate</th>\n",
       "    </tr>\n",
       "  </thead>\n",
       "  <tbody>\n",
       "    <tr>\n",
       "      <th>0</th>\n",
       "      <td>2013-01-01</td>\n",
       "      <td>10.000000</td>\n",
       "      <td>84.500000</td>\n",
       "      <td>0.000000</td>\n",
       "      <td>Moderate</td>\n",
       "    </tr>\n",
       "    <tr>\n",
       "      <th>1</th>\n",
       "      <td>2013-01-02</td>\n",
       "      <td>7.400000</td>\n",
       "      <td>92.000000</td>\n",
       "      <td>2.980000</td>\n",
       "      <td>Moderate</td>\n",
       "    </tr>\n",
       "    <tr>\n",
       "      <th>2</th>\n",
       "      <td>2013-01-03</td>\n",
       "      <td>7.166667</td>\n",
       "      <td>87.000000</td>\n",
       "      <td>4.633333</td>\n",
       "      <td>Moderate</td>\n",
       "    </tr>\n",
       "    <tr>\n",
       "      <th>3</th>\n",
       "      <td>2013-01-04</td>\n",
       "      <td>8.666667</td>\n",
       "      <td>71.333333</td>\n",
       "      <td>1.233333</td>\n",
       "      <td>Moderate</td>\n",
       "    </tr>\n",
       "    <tr>\n",
       "      <th>4</th>\n",
       "      <td>2013-01-05</td>\n",
       "      <td>6.000000</td>\n",
       "      <td>86.833333</td>\n",
       "      <td>3.700000</td>\n",
       "      <td>Moderate</td>\n",
       "    </tr>\n",
       "  </tbody>\n",
       "</table>\n",
       "</div>"
      ],
      "text/plain": [
       "        date   meantemp   humidity  wind_speed   Climate\n",
       "0 2013-01-01  10.000000  84.500000    0.000000  Moderate\n",
       "1 2013-01-02   7.400000  92.000000    2.980000  Moderate\n",
       "2 2013-01-03   7.166667  87.000000    4.633333  Moderate\n",
       "3 2013-01-04   8.666667  71.333333    1.233333  Moderate\n",
       "4 2013-01-05   6.000000  86.833333    3.700000  Moderate"
      ]
     },
     "execution_count": 18,
     "metadata": {},
     "output_type": "execute_result"
    }
   ],
   "source": [
    "df['date'] = pd.to_datetime(df['date'], format='%Y-%m-%d')\n",
    "df.head()"
   ]
  },
  {
   "cell_type": "code",
   "execution_count": 19,
   "id": "06b44ef2",
   "metadata": {},
   "outputs": [
    {
     "name": "stdout",
     "output_type": "stream",
     "text": [
      "             meantemp   humidity  wind_speed   Climate\n",
      "date                                                  \n",
      "2013-01-01  10.000000  84.500000    0.000000  Moderate\n",
      "2013-01-02   7.400000  92.000000    2.980000  Moderate\n",
      "2013-01-03   7.166667  87.000000    4.633333  Moderate\n",
      "2013-01-04   8.666667  71.333333    1.233333  Moderate\n",
      "2013-01-05   6.000000  86.833333    3.700000  Moderate\n"
     ]
    }
   ],
   "source": [
    "df.index = df['date']\n",
    "del df['date']\n",
    "print(df.head())"
   ]
  },
  {
   "cell_type": "code",
   "execution_count": 20,
   "id": "c0824c35",
   "metadata": {},
   "outputs": [
    {
     "data": {
      "text/plain": [
       "<AxesSubplot:xlabel='date', ylabel='meantemp'>"
      ]
     },
     "execution_count": 20,
     "metadata": {},
     "output_type": "execute_result"
    },
    {
     "data": {
      "image/png": "[encoded data removed]",
      "text/plain": [
       "<Figure size 432x288 with 1 Axes>"
      ]
     },
     "metadata": {
      "needs_background": "light"
     },
     "output_type": "display_data"
    }
   ],
   "source": [
    "sns.lineplot(x=df.index,y=df['meantemp'])"
   ]
  },
  {
   "cell_type": "markdown",
   "id": "d6818b12",
   "metadata": {},
   "source": [
    "# Stationarity Test"
   ]
  },
  {
   "cell_type": "code",
   "execution_count": 21,
   "id": "fd01d670",
   "metadata": {},
   "outputs": [],
   "source": [
    "rolling_mean = df['meantemp'].rolling(7).mean()\n",
    "rolling_std = df['meantemp'].rolling(7).std()"
   ]
  },
  {
   "cell_type": "code",
   "execution_count": 22,
   "id": "8a8daa27",
   "metadata": {},
   "outputs": [
    {
     "data": {
      "text/plain": [
       "<matplotlib.legend.Legend at 0x24c2c186e80>"
      ]
     },
     "execution_count": 22,
     "metadata": {},
     "output_type": "execute_result"
    },
    {
     "data": {
      "image/png": "[encoded data removed]",
      "text/plain": [
       "<Figure size 720x360 with 1 Axes>"
      ]
     },
     "metadata": {
      "needs_background": "light"
     },
     "output_type": "display_data"
    }
   ],
   "source": [
    "fig=plt.figure(figsize=(10,5))\n",
    "plt.plot(df['meantemp'], color=\"blue\",label=\"Temperature Data\")\n",
    "plt.plot(rolling_mean, color=\"red\", label=\"Rolling Mean Temperature\")\n",
    "plt.plot(rolling_std, color=\"black\", label = \"Rolling Standard Deviation in Temperature\")\n",
    "plt.title(\"Temperature Time Series, Rolling Mean, Standard Deviation\")\n",
    "plt.legend(loc=\"best\")"
   ]
  },
  {
   "cell_type": "code",
   "execution_count": 23,
   "id": "4affe65f",
   "metadata": {},
   "outputs": [
    {
     "name": "stdout",
     "output_type": "stream",
     "text": [
      "        Values                       Metric\n",
      "0    -2.021069              Test Statistics\n",
      "1     0.277412                      p-value\n",
      "2    10.000000             No. of lags used\n",
      "3  1451.000000  Number of observations used\n",
      "4    -3.434865          critical value (1%)\n",
      "5    -2.863534          critical value (5%)\n",
      "6    -2.567832         critical value (10%)\n"
     ]
    }
   ],
   "source": [
    "from statsmodels.tsa.stattools import adfuller\n",
    "adft = adfuller(df['meantemp'],autolag=\"AIC\")\n",
    "output_df = pd.DataFrame({\"Values\":[adft[0],adft[1],adft[2],adft[3], adft[4]['1%'], adft[4]['5%'], adft[4]['10%']]  , \"Metric\":[\"Test Statistics\",\"p-value\",\"No. of lags used\",\"Number of observations used\", \n",
    "                                                        \"critical value (1%)\", \"critical value (5%)\", \"critical value (10%)\"]})\n",
    "print(output_df)"
   ]
  },
  {
   "cell_type": "markdown",
   "id": "95de4779",
   "metadata": {},
   "source": [
    "# Autocorrelation"
   ]
  },
  {
   "cell_type": "code",
   "execution_count": 24,
   "id": "9cee55eb",
   "metadata": {
    "scrolled": true
   },
   "outputs": [
    {
     "name": "stdout",
     "output_type": "stream",
     "text": [
      "One Month Lag:  0.9740674782673886\n",
      "Three Month Lag:  0.9426231725006878\n",
      "Six Month Lag:  0.9228210773451084\n",
      "Nine Month Lag:  0.9045357430207454\n"
     ]
    }
   ],
   "source": [
    "autocorrelation_lag1 = df['meantemp'].autocorr(lag=1)\n",
    "print(\"One Month Lag: \", autocorrelation_lag1)\n",
    "\n",
    "autocorrelation_lag3 = df['meantemp'].autocorr(lag=3)\n",
    "print(\"Three Month Lag: \", autocorrelation_lag3)\n",
    "\n",
    "autocorrelation_lag6 = df['meantemp'].autocorr(lag=6)\n",
    "print(\"Six Month Lag: \", autocorrelation_lag6)\n",
    "\n",
    "autocorrelation_lag9 = df['meantemp'].autocorr(lag=9)\n",
    "print(\"Nine Month Lag: \", autocorrelation_lag9)"
   ]
  },
  {
   "cell_type": "markdown",
   "id": "7522d23e",
   "metadata": {},
   "source": [
    "# Decomposition"
   ]
  },
  {
   "cell_type": "code",
   "execution_count": 25,
   "id": "97103890",
   "metadata": {},
   "outputs": [
    {
     "data": {
      "image/png": "[encoded data removed]",
      "text/plain": [
       "<Figure size 432x288 with 4 Axes>"
      ]
     },
     "metadata": {
      "needs_background": "light"
     },
     "output_type": "display_data"
    }
   ],
   "source": [
    "from statsmodels.tsa.seasonal import seasonal_decompose\n",
    "decompose = seasonal_decompose(df['meantemp'],model='additive', period=70)\n",
    "decompose.plot()\n",
    "plt.show()"
   ]
  },
  {
   "cell_type": "markdown",
   "id": "02020f02",
   "metadata": {},
   "source": [
    "# Forecasting"
   ]
  },
  {
   "cell_type": "code",
   "execution_count": 26,
   "id": "7ffaca58",
   "metadata": {
    "scrolled": true
   },
   "outputs": [
    {
     "name": "stdout",
     "output_type": "stream",
     "text": [
      "             humidity  wind_speed   Climate      train\n",
      "date                                                  \n",
      "2013-01-01  84.500000    0.000000  Moderate  10.000000\n",
      "2013-01-02  92.000000    2.980000  Moderate   7.400000\n",
      "2013-01-03  87.000000    4.633333  Moderate   7.166667\n",
      "2013-01-04  71.333333    1.233333  Moderate   8.666667\n",
      "2013-01-05  86.833333    3.700000  Moderate   6.000000\n",
      "...               ...         ...       ...        ...\n",
      "2016-07-27  88.250000    4.293750  Moderate  28.312500\n",
      "2016-07-28  81.333333    5.186667  Moderate  29.533333\n",
      "2016-07-29  92.437500    2.431250  Moderate  27.375000\n",
      "2016-07-30  92.266667    1.860000  Moderate  27.333333\n",
      "2016-07-31  83.133333    4.700000  Moderate  29.266667\n",
      "\n",
      "[1308 rows x 4 columns]\n"
     ]
    },
    {
     "name": "stderr",
     "output_type": "stream",
     "text": [
      "C:\\Users\\Srimathi\\AppData\\Local\\Temp\\ipykernel_6944\\4157072929.py:3: SettingWithCopyWarning: \n",
      "A value is trying to be set on a copy of a slice from a DataFrame.\n",
      "Try using .loc[row_indexer,col_indexer] = value instead\n",
      "\n",
      "See the caveats in the documentation: https://pandas.pydata.org/pandas-docs/stable/user_guide/indexing.html#returning-a-view-versus-a-copy\n",
      "  train['train'] = train['meantemp']\n",
      "C:\\Users\\Srimathi\\AppData\\Local\\Temp\\ipykernel_6944\\4157072929.py:8: SettingWithCopyWarning: \n",
      "A value is trying to be set on a copy of a slice from a DataFrame.\n",
      "Try using .loc[row_indexer,col_indexer] = value instead\n",
      "\n",
      "See the caveats in the documentation: https://pandas.pydata.org/pandas-docs/stable/user_guide/indexing.html#returning-a-view-versus-a-copy\n",
      "  test['test'] = test['meantemp']\n"
     ]
    }
   ],
   "source": [
    "df['date'] = df.index\n",
    "train = df[df['date'] < pd.to_datetime(\"2016-08-01\", format='%Y-%m-%d')]\n",
    "train['train'] = train['meantemp']\n",
    "del train['date']\n",
    "del train['meantemp']\n",
    "test = df[df['date'] >= pd.to_datetime(\"2016-08-01\", format='%Y-%m-%d')]\n",
    "del test['date']\n",
    "test['test'] = test['meantemp']\n",
    "del test['meantemp']\n",
    "print(train)\n"
   ]
  },
  {
   "cell_type": "code",
   "execution_count": 27,
   "id": "bfdfa9c2",
   "metadata": {
    "scrolled": true
   },
   "outputs": [
    {
     "name": "stdout",
     "output_type": "stream",
     "text": [
      "Performing stepwise search to minimize aic\n",
      " ARIMA(2,1,2)(0,0,0)[0] intercept   : AIC=5003.500, Time=1.35 sec\n",
      " ARIMA(0,1,0)(0,0,0)[0] intercept   : AIC=5093.749, Time=0.03 sec\n",
      " ARIMA(1,1,0)(0,0,0)[0] intercept   : AIC=5067.300, Time=0.09 sec\n",
      " ARIMA(0,1,1)(0,0,0)[0] intercept   : AIC=5057.740, Time=0.10 sec\n",
      " ARIMA(0,1,0)(0,0,0)[0]             : AIC=5091.848, Time=0.04 sec\n",
      " ARIMA(1,1,2)(0,0,0)[0] intercept   : AIC=5002.845, Time=0.45 sec\n",
      " ARIMA(0,1,2)(0,0,0)[0] intercept   : AIC=5029.406, Time=0.18 sec\n",
      " ARIMA(1,1,1)(0,0,0)[0] intercept   : AIC=5001.707, Time=0.39 sec\n",
      " ARIMA(2,1,1)(0,0,0)[0] intercept   : AIC=5002.651, Time=0.99 sec\n",
      " ARIMA(2,1,0)(0,0,0)[0] intercept   : AIC=5054.336, Time=0.14 sec\n",
      " ARIMA(1,1,1)(0,0,0)[0]             : AIC=5000.259, Time=0.25 sec\n",
      " ARIMA(0,1,1)(0,0,0)[0]             : AIC=5055.903, Time=0.07 sec\n",
      " ARIMA(1,1,0)(0,0,0)[0]             : AIC=5065.434, Time=0.07 sec\n",
      " ARIMA(2,1,1)(0,0,0)[0]             : AIC=5001.199, Time=0.28 sec\n",
      " ARIMA(1,1,2)(0,0,0)[0]             : AIC=5001.394, Time=0.23 sec\n",
      " ARIMA(0,1,2)(0,0,0)[0]             : AIC=5027.699, Time=0.10 sec\n",
      " ARIMA(2,1,0)(0,0,0)[0]             : AIC=5052.503, Time=0.08 sec\n",
      " ARIMA(2,1,2)(0,0,0)[0]             : AIC=5002.054, Time=0.67 sec\n",
      "\n",
      "Best model:  ARIMA(1,1,1)(0,0,0)[0]          \n",
      "Total fit time: 5.588 seconds\n"
     ]
    }
   ],
   "source": [
    "from pmdarima.arima import auto_arima\n",
    "model = auto_arima(train['train'], trace=True, error_action='ignore', suppress_warnings=True)\n",
    "model.fit(train['train'])\n",
    "forecast = model.predict(n_periods=5)\n",
    "forecast = pd.DataFrame(forecast,columns=['Prediction'])"
   ]
  },
  {
   "cell_type": "code",
   "execution_count": 28,
   "id": "a0b504f4",
   "metadata": {},
   "outputs": [
    {
     "name": "stdout",
     "output_type": "stream",
     "text": [
      "RMSE:  2.9915792831635506\n"
     ]
    }
   ],
   "source": [
    "from math import sqrt\n",
    "from sklearn.metrics import mean_squared_error,accuracy_score\n",
    "rms = sqrt(mean_squared_error(test['test'].head(),forecast))\n",
    "print(\"RMSE: \", rms)"
   ]
  },
  {
   "cell_type": "code",
   "execution_count": 29,
   "id": "23d528cd",
   "metadata": {},
   "outputs": [
    {
     "data": {
      "text/html": [
       "<div>\n",
       "<style scoped>\n",
       "    .dataframe tbody tr th:only-of-type {\n",
       "        vertical-align: middle;\n",
       "    }\n",
       "\n",
       "    .dataframe tbody tr th {\n",
       "        vertical-align: top;\n",
       "    }\n",
       "\n",
       "    .dataframe thead th {\n",
       "        text-align: right;\n",
       "    }\n",
       "</style>\n",
       "<table border=\"1\" class=\"dataframe\">\n",
       "  <thead>\n",
       "    <tr style=\"text-align: right;\">\n",
       "      <th></th>\n",
       "      <th>Prediction</th>\n",
       "    </tr>\n",
       "  </thead>\n",
       "  <tbody>\n",
       "    <tr>\n",
       "      <th>2016-08-01</th>\n",
       "      <td>29.332645</td>\n",
       "    </tr>\n",
       "    <tr>\n",
       "      <th>2016-08-02</th>\n",
       "      <td>29.371494</td>\n",
       "    </tr>\n",
       "    <tr>\n",
       "      <th>2016-08-03</th>\n",
       "      <td>29.394369</td>\n",
       "    </tr>\n",
       "    <tr>\n",
       "      <th>2016-08-04</th>\n",
       "      <td>29.407839</td>\n",
       "    </tr>\n",
       "    <tr>\n",
       "      <th>2016-08-05</th>\n",
       "      <td>29.415770</td>\n",
       "    </tr>\n",
       "  </tbody>\n",
       "</table>\n",
       "</div>"
      ],
      "text/plain": [
       "            Prediction\n",
       "2016-08-01   29.332645\n",
       "2016-08-02   29.371494\n",
       "2016-08-03   29.394369\n",
       "2016-08-04   29.407839\n",
       "2016-08-05   29.415770"
      ]
     },
     "execution_count": 29,
     "metadata": {},
     "output_type": "execute_result"
    }
   ],
   "source": [
    "forecast"
   ]
  },
  {
   "cell_type": "markdown",
   "id": "645852c2",
   "metadata": {},
   "source": [
    "## forecasting humid"
   ]
  },
  {
   "cell_type": "code",
   "execution_count": 30,
   "id": "7b187dc8",
   "metadata": {},
   "outputs": [
    {
     "name": "stdout",
     "output_type": "stream",
     "text": [
      "             meantemp  wind_speed   Climate      train\n",
      "date                                                  \n",
      "2013-01-01  10.000000    0.000000  Moderate  84.500000\n",
      "2013-01-02   7.400000    2.980000  Moderate  92.000000\n",
      "2013-01-03   7.166667    4.633333  Moderate  87.000000\n",
      "2013-01-04   8.666667    1.233333  Moderate  71.333333\n",
      "2013-01-05   6.000000    3.700000  Moderate  86.833333\n",
      "...               ...         ...       ...        ...\n",
      "2016-07-27  28.312500    4.293750  Moderate  88.250000\n",
      "2016-07-28  29.533333    5.186667  Moderate  81.333333\n",
      "2016-07-29  27.375000    2.431250  Moderate  92.437500\n",
      "2016-07-30  27.333333    1.860000  Moderate  92.266667\n",
      "2016-07-31  29.266667    4.700000  Moderate  83.133333\n",
      "\n",
      "[1308 rows x 4 columns]\n"
     ]
    },
    {
     "name": "stderr",
     "output_type": "stream",
     "text": [
      "C:\\Users\\Srimathi\\AppData\\Local\\Temp\\ipykernel_6944\\3823385524.py:3: SettingWithCopyWarning: \n",
      "A value is trying to be set on a copy of a slice from a DataFrame.\n",
      "Try using .loc[row_indexer,col_indexer] = value instead\n",
      "\n",
      "See the caveats in the documentation: https://pandas.pydata.org/pandas-docs/stable/user_guide/indexing.html#returning-a-view-versus-a-copy\n",
      "  train['train'] = train['humidity']\n",
      "C:\\Users\\Srimathi\\AppData\\Local\\Temp\\ipykernel_6944\\3823385524.py:8: SettingWithCopyWarning: \n",
      "A value is trying to be set on a copy of a slice from a DataFrame.\n",
      "Try using .loc[row_indexer,col_indexer] = value instead\n",
      "\n",
      "See the caveats in the documentation: https://pandas.pydata.org/pandas-docs/stable/user_guide/indexing.html#returning-a-view-versus-a-copy\n",
      "  test['test'] = test['humidity']\n"
     ]
    }
   ],
   "source": [
    "df['date'] = df.index\n",
    "train = df[df['date'] < pd.to_datetime(\"2016-08-01\", format='%Y-%m-%d')]\n",
    "train['train'] = train['humidity']\n",
    "del train['date']\n",
    "del train['humidity']\n",
    "test = df[df['date'] >= pd.to_datetime(\"2016-08-01\", format='%Y-%m-%d')]\n",
    "del test['date']\n",
    "test['test'] = test['humidity']\n",
    "del test['humidity']\n",
    "print(train)"
   ]
  },
  {
   "cell_type": "code",
   "execution_count": 31,
   "id": "d8708c2e",
   "metadata": {},
   "outputs": [
    {
     "name": "stdout",
     "output_type": "stream",
     "text": [
      "Performing stepwise search to minimize aic\n",
      " ARIMA(2,0,2)(0,0,0)[0] intercept   : AIC=9116.561, Time=1.54 sec\n",
      " ARIMA(0,0,0)(0,0,0)[0] intercept   : AIC=11162.358, Time=0.04 sec\n",
      " ARIMA(1,0,0)(0,0,0)[0] intercept   : AIC=9186.677, Time=0.13 sec\n",
      " ARIMA(0,0,1)(0,0,0)[0] intercept   : AIC=10188.150, Time=0.31 sec\n",
      " ARIMA(0,0,0)(0,0,0)[0]             : AIC=14549.127, Time=0.02 sec\n",
      " ARIMA(1,0,2)(0,0,0)[0] intercept   : AIC=9151.281, Time=0.53 sec\n",
      " ARIMA(2,0,1)(0,0,0)[0] intercept   : AIC=9120.875, Time=1.28 sec\n",
      " ARIMA(3,0,2)(0,0,0)[0] intercept   : AIC=9115.931, Time=2.20 sec\n",
      " ARIMA(3,0,1)(0,0,0)[0] intercept   : AIC=9115.344, Time=2.04 sec\n",
      " ARIMA(3,0,0)(0,0,0)[0] intercept   : AIC=9171.557, Time=0.28 sec\n",
      " ARIMA(4,0,1)(0,0,0)[0] intercept   : AIC=9114.455, Time=1.89 sec\n",
      " ARIMA(4,0,0)(0,0,0)[0] intercept   : AIC=9141.825, Time=0.52 sec\n",
      " ARIMA(5,0,1)(0,0,0)[0] intercept   : AIC=9115.025, Time=2.28 sec\n",
      " ARIMA(4,0,2)(0,0,0)[0] intercept   : AIC=9114.184, Time=2.11 sec\n",
      " ARIMA(5,0,2)(0,0,0)[0] intercept   : AIC=9118.251, Time=2.02 sec\n",
      " ARIMA(4,0,3)(0,0,0)[0] intercept   : AIC=9117.776, Time=2.32 sec\n",
      " ARIMA(3,0,3)(0,0,0)[0] intercept   : AIC=9114.228, Time=1.91 sec\n",
      " ARIMA(5,0,3)(0,0,0)[0] intercept   : AIC=9116.055, Time=2.71 sec\n",
      " ARIMA(4,0,2)(0,0,0)[0]             : AIC=9124.804, Time=0.54 sec\n",
      "\n",
      "Best model:  ARIMA(4,0,2)(0,0,0)[0] intercept\n",
      "Total fit time: 24.693 seconds\n"
     ]
    }
   ],
   "source": [
    "from pmdarima.arima import auto_arima\n",
    "model = auto_arima(train['train'], trace=True, error_action='ignore', suppress_warnings=True)\n",
    "model.fit(train['train'])\n",
    "forecast2 = model.predict(n_periods=5)\n",
    "forecast2 = pd.DataFrame(forecast2,columns=['Prediction'])"
   ]
  },
  {
   "cell_type": "code",
   "execution_count": 32,
   "id": "f2c732a8",
   "metadata": {},
   "outputs": [
    {
     "name": "stdout",
     "output_type": "stream",
     "text": [
      "RMSE:  12.530303593261781\n"
     ]
    }
   ],
   "source": [
    "from math import sqrt\n",
    "from sklearn.metrics import mean_squared_error,accuracy_score\n",
    "rms = sqrt(mean_squared_error(test['test'].head(),forecast2))\n",
    "print(\"RMSE: \", rms)"
   ]
  },
  {
   "cell_type": "code",
   "execution_count": 33,
   "id": "a931c7bc",
   "metadata": {},
   "outputs": [
    {
     "data": {
      "text/html": [
       "<div>\n",
       "<style scoped>\n",
       "    .dataframe tbody tr th:only-of-type {\n",
       "        vertical-align: middle;\n",
       "    }\n",
       "\n",
       "    .dataframe tbody tr th {\n",
       "        vertical-align: top;\n",
       "    }\n",
       "\n",
       "    .dataframe thead th {\n",
       "        text-align: right;\n",
       "    }\n",
       "</style>\n",
       "<table border=\"1\" class=\"dataframe\">\n",
       "  <thead>\n",
       "    <tr style=\"text-align: right;\">\n",
       "      <th></th>\n",
       "      <th>Prediction</th>\n",
       "    </tr>\n",
       "  </thead>\n",
       "  <tbody>\n",
       "    <tr>\n",
       "      <th>2016-08-01</th>\n",
       "      <td>79.940362</td>\n",
       "    </tr>\n",
       "    <tr>\n",
       "      <th>2016-08-02</th>\n",
       "      <td>79.075860</td>\n",
       "    </tr>\n",
       "    <tr>\n",
       "      <th>2016-08-03</th>\n",
       "      <td>78.748547</td>\n",
       "    </tr>\n",
       "    <tr>\n",
       "      <th>2016-08-04</th>\n",
       "      <td>78.518157</td>\n",
       "    </tr>\n",
       "    <tr>\n",
       "      <th>2016-08-05</th>\n",
       "      <td>78.205215</td>\n",
       "    </tr>\n",
       "  </tbody>\n",
       "</table>\n",
       "</div>"
      ],
      "text/plain": [
       "            Prediction\n",
       "2016-08-01   79.940362\n",
       "2016-08-02   79.075860\n",
       "2016-08-03   78.748547\n",
       "2016-08-04   78.518157\n",
       "2016-08-05   78.205215"
      ]
     },
     "execution_count": 33,
     "metadata": {},
     "output_type": "execute_result"
    }
   ],
   "source": [
    "forecast2"
   ]
  },
  {
   "cell_type": "markdown",
   "id": "09b377b2",
   "metadata": {},
   "source": [
    "## forecasting wind"
   ]
  },
  {
   "cell_type": "code",
   "execution_count": 34,
   "id": "ae1d2f77",
   "metadata": {},
   "outputs": [
    {
     "name": "stdout",
     "output_type": "stream",
     "text": [
      "             meantemp   humidity   Climate     train\n",
      "date                                                \n",
      "2013-01-01  10.000000  84.500000  Moderate  0.000000\n",
      "2013-01-02   7.400000  92.000000  Moderate  2.980000\n",
      "2013-01-03   7.166667  87.000000  Moderate  4.633333\n",
      "2013-01-04   8.666667  71.333333  Moderate  1.233333\n",
      "2013-01-05   6.000000  86.833333  Moderate  3.700000\n",
      "...               ...        ...       ...       ...\n",
      "2016-07-27  28.312500  88.250000  Moderate  4.293750\n",
      "2016-07-28  29.533333  81.333333  Moderate  5.186667\n",
      "2016-07-29  27.375000  92.437500  Moderate  2.431250\n",
      "2016-07-30  27.333333  92.266667  Moderate  1.860000\n",
      "2016-07-31  29.266667  83.133333  Moderate  4.700000\n",
      "\n",
      "[1308 rows x 4 columns]\n"
     ]
    },
    {
     "name": "stderr",
     "output_type": "stream",
     "text": [
      "C:\\Users\\Srimathi\\AppData\\Local\\Temp\\ipykernel_6944\\827204658.py:3: SettingWithCopyWarning: \n",
      "A value is trying to be set on a copy of a slice from a DataFrame.\n",
      "Try using .loc[row_indexer,col_indexer] = value instead\n",
      "\n",
      "See the caveats in the documentation: https://pandas.pydata.org/pandas-docs/stable/user_guide/indexing.html#returning-a-view-versus-a-copy\n",
      "  train['train'] = train['wind_speed']\n",
      "C:\\Users\\Srimathi\\AppData\\Local\\Temp\\ipykernel_6944\\827204658.py:8: SettingWithCopyWarning: \n",
      "A value is trying to be set on a copy of a slice from a DataFrame.\n",
      "Try using .loc[row_indexer,col_indexer] = value instead\n",
      "\n",
      "See the caveats in the documentation: https://pandas.pydata.org/pandas-docs/stable/user_guide/indexing.html#returning-a-view-versus-a-copy\n",
      "  test['test'] = test['wind_speed']\n"
     ]
    }
   ],
   "source": [
    "df['date'] = df.index\n",
    "train = df[df['date'] < pd.to_datetime(\"2016-08-01\", format='%Y-%m-%d')]\n",
    "train['train'] = train['wind_speed']\n",
    "del train['date']\n",
    "del train['wind_speed']\n",
    "test = df[df['date'] >= pd.to_datetime(\"2016-08-01\", format='%Y-%m-%d')]\n",
    "del test['date']\n",
    "test['test'] = test['wind_speed']\n",
    "del test['wind_speed']\n",
    "print(train)\n"
   ]
  },
  {
   "cell_type": "code",
   "execution_count": 35,
   "id": "83f4a280",
   "metadata": {},
   "outputs": [
    {
     "name": "stdout",
     "output_type": "stream",
     "text": [
      "Performing stepwise search to minimize aic\n",
      " ARIMA(2,0,2)(0,0,0)[0] intercept   : AIC=7403.146, Time=1.72 sec\n",
      " ARIMA(0,0,0)(0,0,0)[0] intercept   : AIC=7725.321, Time=0.03 sec\n",
      " ARIMA(1,0,0)(0,0,0)[0] intercept   : AIC=7456.899, Time=0.14 sec\n",
      " ARIMA(0,0,1)(0,0,0)[0] intercept   : AIC=7507.404, Time=0.17 sec\n",
      " ARIMA(0,0,0)(0,0,0)[0]             : AIC=9228.306, Time=0.03 sec\n",
      " ARIMA(1,0,2)(0,0,0)[0] intercept   : AIC=7406.122, Time=1.36 sec\n",
      " ARIMA(2,0,1)(0,0,0)[0] intercept   : AIC=7402.143, Time=1.53 sec\n",
      " ARIMA(1,0,1)(0,0,0)[0] intercept   : AIC=7453.471, Time=0.33 sec\n",
      " ARIMA(2,0,0)(0,0,0)[0] intercept   : AIC=7455.482, Time=0.27 sec\n",
      " ARIMA(3,0,1)(0,0,0)[0] intercept   : AIC=7402.611, Time=1.90 sec\n",
      " ARIMA(3,0,0)(0,0,0)[0] intercept   : AIC=7450.711, Time=0.35 sec\n",
      " ARIMA(3,0,2)(0,0,0)[0] intercept   : AIC=7405.159, Time=1.89 sec\n",
      " ARIMA(2,0,1)(0,0,0)[0]             : AIC=7409.437, Time=0.62 sec\n",
      "\n",
      "Best model:  ARIMA(2,0,1)(0,0,0)[0] intercept\n",
      "Total fit time: 10.350 seconds\n"
     ]
    }
   ],
   "source": [
    "from pmdarima.arima import auto_arima\n",
    "model = auto_arima(train['train'], trace=True, error_action='ignore', suppress_warnings=True)\n",
    "model.fit(train['train'])\n",
    "forecast3 = model.predict(n_periods=5)\n",
    "forecast3 = pd.DataFrame(forecast3,columns=['Prediction'])"
   ]
  },
  {
   "cell_type": "code",
   "execution_count": 36,
   "id": "95e10aa4",
   "metadata": {},
   "outputs": [
    {
     "name": "stdout",
     "output_type": "stream",
     "text": [
      "RMSE:  1.2632307072507223\n"
     ]
    }
   ],
   "source": [
    "from math import sqrt\n",
    "from sklearn.metrics import mean_squared_error,accuracy_score\n",
    "rms = sqrt(mean_squared_error(test['test'].head(),forecast3))\n",
    "print(\"RMSE: \", rms)"
   ]
  },
  {
   "cell_type": "code",
   "execution_count": 37,
   "id": "9c4a23fd",
   "metadata": {},
   "outputs": [
    {
     "data": {
      "text/html": [
       "<div>\n",
       "<style scoped>\n",
       "    .dataframe tbody tr th:only-of-type {\n",
       "        vertical-align: middle;\n",
       "    }\n",
       "\n",
       "    .dataframe tbody tr th {\n",
       "        vertical-align: top;\n",
       "    }\n",
       "\n",
       "    .dataframe thead th {\n",
       "        text-align: right;\n",
       "    }\n",
       "</style>\n",
       "<table border=\"1\" class=\"dataframe\">\n",
       "  <thead>\n",
       "    <tr style=\"text-align: right;\">\n",
       "      <th></th>\n",
       "      <th>Prediction</th>\n",
       "    </tr>\n",
       "  </thead>\n",
       "  <tbody>\n",
       "    <tr>\n",
       "      <th>2016-08-01</th>\n",
       "      <td>5.965402</td>\n",
       "    </tr>\n",
       "    <tr>\n",
       "      <th>2016-08-02</th>\n",
       "      <td>6.362158</td>\n",
       "    </tr>\n",
       "    <tr>\n",
       "      <th>2016-08-03</th>\n",
       "      <td>6.487681</td>\n",
       "    </tr>\n",
       "    <tr>\n",
       "      <th>2016-08-04</th>\n",
       "      <td>6.528497</td>\n",
       "    </tr>\n",
       "    <tr>\n",
       "      <th>2016-08-05</th>\n",
       "      <td>6.542842</td>\n",
       "    </tr>\n",
       "  </tbody>\n",
       "</table>\n",
       "</div>"
      ],
      "text/plain": [
       "            Prediction\n",
       "2016-08-01    5.965402\n",
       "2016-08-02    6.362158\n",
       "2016-08-03    6.487681\n",
       "2016-08-04    6.528497\n",
       "2016-08-05    6.542842"
      ]
     },
     "execution_count": 37,
     "metadata": {},
     "output_type": "execute_result"
    }
   ],
   "source": [
    "forecast3"
   ]
  },
  {
   "cell_type": "code",
   "execution_count": 38,
   "id": "323e68be",
   "metadata": {},
   "outputs": [
    {
     "name": "stdout",
     "output_type": "stream",
     "text": [
      "   Prediction\n",
      "0   29.332645\n",
      "1   29.371494\n",
      "2   29.394369\n",
      "3   29.407839\n",
      "4   29.415770\n",
      "   Prediction\n",
      "0   79.940362\n",
      "1   79.075860\n",
      "2   78.748547\n",
      "3   78.518157\n",
      "4   78.205215\n",
      "   Prediction\n",
      "0    5.965402\n",
      "1    6.362158\n",
      "2    6.487681\n",
      "3    6.528497\n",
      "4    6.542842\n"
     ]
    }
   ],
   "source": [
    "forecast.reset_index(drop=True,inplace=True)\n",
    "forecast2.reset_index(drop=True,inplace=True)\n",
    "forecast3.reset_index(drop=True,inplace=True)\n",
    "print(forecast)\n",
    "print(forecast2)\n",
    "print(forecast3)"
   ]
  },
  {
   "cell_type": "code",
   "execution_count": 39,
   "id": "06725781",
   "metadata": {},
   "outputs": [],
   "source": [
    "def convert(x):\n",
    "    y=round(float(x),6)\n",
    "    return y"
   ]
  },
  {
   "cell_type": "code",
   "execution_count": 40,
   "id": "caed2a3f",
   "metadata": {},
   "outputs": [
    {
     "data": {
      "text/html": [
       "<div>\n",
       "<style scoped>\n",
       "    .dataframe tbody tr th:only-of-type {\n",
       "        vertical-align: middle;\n",
       "    }\n",
       "\n",
       "    .dataframe tbody tr th {\n",
       "        vertical-align: top;\n",
       "    }\n",
       "\n",
       "    .dataframe thead th {\n",
       "        text-align: right;\n",
       "    }\n",
       "</style>\n",
       "<table border=\"1\" class=\"dataframe\">\n",
       "  <thead>\n",
       "    <tr style=\"text-align: right;\">\n",
       "      <th></th>\n",
       "      <th>Temperature</th>\n",
       "      <th>Humidity</th>\n",
       "      <th>Wind_Speed</th>\n",
       "    </tr>\n",
       "  </thead>\n",
       "  <tbody>\n",
       "    <tr>\n",
       "      <th>0</th>\n",
       "      <td>29.332645</td>\n",
       "      <td>79.940362</td>\n",
       "      <td>5.965402</td>\n",
       "    </tr>\n",
       "    <tr>\n",
       "      <th>1</th>\n",
       "      <td>29.371494</td>\n",
       "      <td>79.07586</td>\n",
       "      <td>6.362158</td>\n",
       "    </tr>\n",
       "    <tr>\n",
       "      <th>2</th>\n",
       "      <td>29.394369</td>\n",
       "      <td>78.748547</td>\n",
       "      <td>6.487681</td>\n",
       "    </tr>\n",
       "    <tr>\n",
       "      <th>3</th>\n",
       "      <td>29.407839</td>\n",
       "      <td>78.518157</td>\n",
       "      <td>6.528497</td>\n",
       "    </tr>\n",
       "    <tr>\n",
       "      <th>4</th>\n",
       "      <td>29.41577</td>\n",
       "      <td>78.205215</td>\n",
       "      <td>6.542842</td>\n",
       "    </tr>\n",
       "  </tbody>\n",
       "</table>\n",
       "</div>"
      ],
      "text/plain": [
       "  Temperature   Humidity Wind_Speed\n",
       "0   29.332645  79.940362   5.965402\n",
       "1   29.371494   79.07586   6.362158\n",
       "2   29.394369  78.748547   6.487681\n",
       "3   29.407839  78.518157   6.528497\n",
       "4    29.41577  78.205215   6.542842"
      ]
     },
     "execution_count": 40,
     "metadata": {},
     "output_type": "execute_result"
    }
   ],
   "source": [
    "day5=pd.DataFrame(columns=['Temperature','Humidity','Wind_Speed'])\n",
    "for i in range(0,5):\n",
    "    row=[[convert(forecast.iloc[i].values),convert(forecast2.iloc[i].values),convert(forecast3.iloc[i].values)]]\n",
    "    day5=pd.concat([day5,pd.DataFrame(row,columns=['Temperature','Humidity','Wind_Speed'])],ignore_index=True)\n",
    "day5"
   ]
  },
  {
   "cell_type": "code",
   "execution_count": 41,
   "id": "571c2c27",
   "metadata": {},
   "outputs": [
    {
     "name": "stderr",
     "output_type": "stream",
     "text": [
      "C:\\Users\\Srimathi\\anaconda3\\lib\\site-packages\\sklearn\\base.py:443: UserWarning: X has feature names, but RandomForestClassifier was fitted without feature names\n",
      "  warnings.warn(\n"
     ]
    },
    {
     "data": {
      "text/plain": [
       "array(['Moderate', 'Moderate', 'Moderate', 'Moderate', 'Moderate'],\n",
       "      dtype=object)"
      ]
     },
     "execution_count": 41,
     "metadata": {},
     "output_type": "execute_result"
    }
   ],
   "source": [
    "predict_climate=classifier.predict(day5)\n",
    "predict_climate"
   ]
  },
  {
   "cell_type": "markdown",
   "id": "425b43ca",
   "metadata": {},
   "source": [
    "# Example UI (Either user based or sensor based)"
   ]
  },
  {
   "cell_type": "code",
   "execution_count": 43,
   "id": "248f12cc",
   "metadata": {
    "scrolled": true
   },
   "outputs": [
    {
     "name": "stdout",
     "output_type": "stream",
     "text": [
      "Enter current temperature :17\n",
      "Enter current humidity in %56\n",
      "Enter wind speed2\n",
      "\u001b[1mYou are having ['Good'] Climate\u001b[0m\n",
      "For next 5 days, you would be having\n",
      "Date : 2023-08-24 ; Climate (Temperature,Humidity,Wind speed): [29.332645 79.940362 5.965402] ; Condition : Moderate\n",
      "Date : 2023-08-25 ; Climate (Temperature,Humidity,Wind speed): [29.371494 79.07586 6.362158] ; Condition : Moderate\n",
      "Date : 2023-08-26 ; Climate (Temperature,Humidity,Wind speed): [29.394369 78.748547 6.487681] ; Condition : Moderate\n",
      "Date : 2023-08-27 ; Climate (Temperature,Humidity,Wind speed): [29.407839 78.518157 6.528497] ; Condition : Moderate\n",
      "Date : 2023-08-28 ; Climate (Temperature,Humidity,Wind speed): [29.41577 78.205215 6.542842] ; Condition : Moderate\n",
      "\u001b[1mImpacts & prevention\u001b[0m\n",
      "If the climate remains stable and favorable, there are several positive impacts on the environment and society. \n",
      "• Agriculture could thrive with predictable growing seasons, leading to increased food production. \n",
      "• Ecosystems would be more resilient, supporting biodiversity and maintaining vital ecosystem services.\n",
      "• Extreme weather events would be less frequent, reducing the risk of disasters.\n",
      "• Sea levels and temperature fluctuations would remain relatively stable, preserving coastal communities and habitats.\n",
      "To prevent negative impacts on the climate, it's crucial to continue efforts to reduce greenhouse gas emissions. \n",
      "• Transitioning to renewable energy sources, promoting sustainable land use, and enhancing energy efficiency are key strategies. \n",
      "• Conservation of forests and oceans also plays a vital role in maintaining a balanced climate.\n"
     ]
    },
    {
     "name": "stderr",
     "output_type": "stream",
     "text": [
      "C:\\Users\\Srimathi\\anaconda3\\lib\\site-packages\\sklearn\\base.py:443: UserWarning: X has feature names, but RandomForestClassifier was fitted without feature names\n",
      "  warnings.warn(\n",
      "C:\\Users\\Srimathi\\anaconda3\\lib\\site-packages\\sklearn\\base.py:443: UserWarning: X has feature names, but RandomForestClassifier was fitted without feature names\n",
      "  warnings.warn(\n",
      "C:\\Users\\Srimathi\\anaconda3\\lib\\site-packages\\sklearn\\base.py:443: UserWarning: X has feature names, but RandomForestClassifier was fitted without feature names\n",
      "  warnings.warn(\n",
      "C:\\Users\\Srimathi\\anaconda3\\lib\\site-packages\\sklearn\\base.py:443: UserWarning: X has feature names, but RandomForestClassifier was fitted without feature names\n",
      "  warnings.warn(\n",
      "C:\\Users\\Srimathi\\anaconda3\\lib\\site-packages\\sklearn\\base.py:443: UserWarning: X has feature names, but RandomForestClassifier was fitted without feature names\n",
      "  warnings.warn(\n"
     ]
    }
   ],
   "source": [
    "from datetime import timedelta, date\n",
    "\n",
    "\n",
    "temp=float(input(\"Enter current temperature :\"))\n",
    "humid=float(input(\"Enter current humidity in %\"))\n",
    "windspd=float(input(\"Enter wind speed\"))\n",
    "res=classifier.predict([[temp,humid,windspd]])\n",
    "print(\"\\033[1m\" + \"You are having\",str(res),\"Climate\" + \"\\033[0m\")\n",
    "print(\"For next 5 days, you would be having\")\n",
    "for i in range(0,5):\n",
    "    end_date = date.today() + timedelta(days=i+1)\n",
    "    print(\"Date :\",end_date,\"; Climate (Temperature,Humidity,Wind speed):\",day5.iloc[i].values,\"; Condition :\",classifier.predict(day5)[i])\n",
    "    \n",
    "    \n",
    "print(\"\\033[1m\" + \"Impacts & prevention\" + \"\\033[0m\") \n",
    "if res == \"Good\":\n",
    "    print(\"\"\"If the climate remains stable and favorable, there are several positive impacts on the environment and society. \n",
    "• Agriculture could thrive with predictable growing seasons, leading to increased food production. \n",
    "• Ecosystems would be more resilient, supporting biodiversity and maintaining vital ecosystem services.\n",
    "• Extreme weather events would be less frequent, reducing the risk of disasters.\n",
    "• Sea levels and temperature fluctuations would remain relatively stable, preserving coastal communities and habitats.\n",
    "To prevent negative impacts on the climate, it's crucial to continue efforts to reduce greenhouse gas emissions. \n",
    "• Transitioning to renewable energy sources, promoting sustainable land use, and enhancing energy efficiency are key strategies. \n",
    "• Conservation of forests and oceans also plays a vital role in maintaining a balanced climate.\"\"\")\n",
    "\n",
    "elif res == \"Moderate\":\n",
    "    print(\"\"\"If the climate remains moderate, with balanced temperature and precipitation patterns, there could still be significant impacts on various aspects of life.\n",
    "• Agricultural yields might experience fluctuations due to variations in growing conditions. \n",
    "• Ecosystems could face challenges in adapting to changing climate patterns, impacting biodiversity and ecosystem services. \n",
    "\n",
    "Preventing negative impacts in a moderate climate scenario involves many of the same strategies as in stable climates.\n",
    "• Reducing emissions,\n",
    "• Transitioning to renewable energy, \n",
    "• Practicing sustainable agriculture, and conserving natural resources.\"\"\")\n",
    "else:\n",
    "    print(\"\"\"A deteriorating climate can lead to a range of severe impacts, including more frequent and intense extreme weather events (such as hurricanes, droughts, and heatwaves), \n",
    "•\tRising sea levels that threaten coastal communities,\n",
    "•\tDisruptions to ecosystems and biodiversity,\n",
    "•\tFood and water scarcity, and negative health effects due to heat stress and air pollution. \n",
    "To prevent further climate degradation, actions must include \n",
    "•\tTransitioning to renewable energy sources,\n",
    "•\tAdopting sustainable land use and forestry practices, \n",
    "•\tEnhancing energy efficiency, promoting public transportation,\n",
    "•\tImplementing stricter emission regulations for industries, and fostering international cooperation to reduce greenhouse gas emissions and mitigate climate change effects.\n",
    "\"\"\")\n"
   ]
  },
  {
   "cell_type": "code",
   "execution_count": 44,
   "id": "08d8c5eb",
   "metadata": {},
   "outputs": [],
   "source": [
    "import pickle"
   ]
  },
  {
   "cell_type": "code",
   "execution_count": 46,
   "id": "6ec2ec42",
   "metadata": {},
   "outputs": [
    {
     "name": "stdout",
     "output_type": "stream",
     "text": [
      "['Good']\n"
     ]
    }
   ],
   "source": [
    "pickle.dump(classifier,open('model1.pkl','wb'))\n",
    "\n",
    "model=pickle.load(open('model1.pkl','rb'))\n",
    "output=model.predict([[temp,humid,windspd]])\n",
    "\n",
    "print(output)"
   ]
  },
  {
   "cell_type": "code",
   "execution_count": null,
   "id": "72d2b82d",
   "metadata": {},
   "outputs": [],
   "source": []
  },
  {
   "cell_type": "code",
   "execution_count": null,
   "id": "c58e86a4",
   "metadata": {},
   "outputs": [],
   "source": []
  },
  {
   "cell_type": "code",
   "execution_count": null,
   "id": "b8934c8a",
   "metadata": {},
   "outputs": [],
   "source": []
  },
  {
   "cell_type": "code",
   "execution_count": null,
   "id": "cb69ca7e",
   "metadata": {},
   "outputs": [],
   "source": []
  },
  {
   "cell_type": "code",
   "execution_count": null,
   "id": "8444492c",
   "metadata": {},
   "outputs": [],
   "source": []
  },
  {
   "cell_type": "code",
   "execution_count": null,
   "id": "248ca364",
   "metadata": {},
   "outputs": [],
   "source": []
  },
  {
   "cell_type": "code",
   "execution_count": null,
   "id": "619d784e",
   "metadata": {},
   "outputs": [],
   "source": []
  },
  {
   "cell_type": "code",
   "execution_count": null,
   "id": "e48de878",
   "metadata": {},
   "outputs": [],
   "source": []
  },
  {
   "cell_type": "code",
   "execution_count": null,
   "id": "b4fbe9c3",
   "metadata": {},
   "outputs": [],
   "source": []
  },
  {
   "cell_type": "code",
   "execution_count": null,
   "id": "daee0892",
   "metadata": {},
   "outputs": [],
   "source": []
  },
  {
   "cell_type": "code",
   "execution_count": null,
   "id": "0ea7e434",
   "metadata": {},
   "outputs": [],
   "source": []
  },
  {
   "cell_type": "code",
   "execution_count": null,
   "id": "ad9ba5f9",
   "metadata": {},
   "outputs": [],
   "source": []
  },
  {
   "cell_type": "code",
   "execution_count": null,
   "id": "93f8bbfc",
   "metadata": {},
   "outputs": [],
   "source": []
  }
 ],
 "metadata": {
  "kernelspec": {
   "display_name": "Python 3",
   "language": "python",
   "name": "python3"
  },
  "language_info": {
   "codemirror_mode": {
    "name": "ipython",
    "version": 3
   },
   "file_extension": ".py",
   "mimetype": "text/x-python",
   "name": "python",
   "nbconvert_exporter": "python",
   "pygments_lexer": "ipython3",
   "version": "3.10.4 (tags/v3.10.4:9d38120, Mar 23 2022, 23:13:41) [MSC v.1929 64 bit (AMD64)]"
  },
  "vscode": {
   "interpreter": {
    "hash": "11f80fe2c5b7a4745e750cbf723dd61fcabf650df9977e63b6a2d40b10d7348d"
   }
  }
 },
 "nbformat": 4,
 "nbformat_minor": 5
}
